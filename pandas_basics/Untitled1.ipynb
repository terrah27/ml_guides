{
 "cells": [
  {
   "cell_type": "markdown",
   "metadata": {},
   "source": [
    "# How do I select rows from a DataFrame based on column values?"
   ]
  },
  {
   "cell_type": "code",
   "execution_count": 1,
   "metadata": {},
   "outputs": [],
   "source": [
    "import pandas as pd"
   ]
  },
  {
   "cell_type": "code",
   "execution_count": 3,
   "metadata": {},
   "outputs": [
    {
     "name": "stdout",
     "output_type": "stream",
     "text": [
      "(5000, 5)\n"
     ]
    },
    {
     "data": {
      "text/html": [
       "<div>\n",
       "<style scoped>\n",
       "    .dataframe tbody tr th:only-of-type {\n",
       "        vertical-align: middle;\n",
       "    }\n",
       "\n",
       "    .dataframe tbody tr th {\n",
       "        vertical-align: top;\n",
       "    }\n",
       "\n",
       "    .dataframe thead th {\n",
       "        text-align: right;\n",
       "    }\n",
       "</style>\n",
       "<table border=\"1\" class=\"dataframe\">\n",
       "  <thead>\n",
       "    <tr style=\"text-align: right;\">\n",
       "      <th></th>\n",
       "      <th>Worker ID</th>\n",
       "      <th>Worker Name</th>\n",
       "      <th>Hire Date</th>\n",
       "      <th>Worker Status</th>\n",
       "      <th>Team</th>\n",
       "    </tr>\n",
       "  </thead>\n",
       "  <tbody>\n",
       "    <tr>\n",
       "      <th>0</th>\n",
       "      <td>1000</td>\n",
       "      <td>Paul Clark</td>\n",
       "      <td>2020-09-12</td>\n",
       "      <td>Part Time</td>\n",
       "      <td>SeaGreen</td>\n",
       "    </tr>\n",
       "    <tr>\n",
       "      <th>1</th>\n",
       "      <td>1001</td>\n",
       "      <td>Andrea White</td>\n",
       "      <td>2001-11-08</td>\n",
       "      <td>Full Time</td>\n",
       "      <td>Crimson</td>\n",
       "    </tr>\n",
       "    <tr>\n",
       "      <th>2</th>\n",
       "      <td>1002</td>\n",
       "      <td>Daniel Taylor</td>\n",
       "      <td>2002-06-10</td>\n",
       "      <td>Part Time</td>\n",
       "      <td>LightSteelBlue</td>\n",
       "    </tr>\n",
       "    <tr>\n",
       "      <th>3</th>\n",
       "      <td>1003</td>\n",
       "      <td>Ann Manning</td>\n",
       "      <td>2019-09-13</td>\n",
       "      <td>Per Diem</td>\n",
       "      <td>Crimson</td>\n",
       "    </tr>\n",
       "    <tr>\n",
       "      <th>4</th>\n",
       "      <td>1004</td>\n",
       "      <td>Brenda Gonzales</td>\n",
       "      <td>2000-12-23</td>\n",
       "      <td>Part Time</td>\n",
       "      <td>Crimson</td>\n",
       "    </tr>\n",
       "  </tbody>\n",
       "</table>\n",
       "</div>"
      ],
      "text/plain": [
       "   Worker ID      Worker Name   Hire Date Worker Status            Team\n",
       "0       1000       Paul Clark  2020-09-12     Part Time        SeaGreen\n",
       "1       1001     Andrea White  2001-11-08     Full Time         Crimson\n",
       "2       1002    Daniel Taylor  2002-06-10     Part Time  LightSteelBlue\n",
       "3       1003      Ann Manning  2019-09-13      Per Diem         Crimson\n",
       "4       1004  Brenda Gonzales  2000-12-23     Part Time         Crimson"
      ]
     },
     "execution_count": 3,
     "metadata": {},
     "output_type": "execute_result"
    }
   ],
   "source": [
    "# read in worker data\n",
    "worker_df = pd.read_csv('../widget_factory/data/workers.csv')\n",
    "print(worker_df.shape)\n",
    "worker_df.head()"
   ]
  },
  {
   "cell_type": "code",
   "execution_count": null,
   "metadata": {},
   "outputs": [],
   "source": []
  }
 ],
 "metadata": {
  "kernelspec": {
   "display_name": "Python 3",
   "language": "python",
   "name": "python3"
  },
  "language_info": {
   "codemirror_mode": {
    "name": "ipython",
    "version": 3
   },
   "file_extension": ".py",
   "mimetype": "text/x-python",
   "name": "python",
   "nbconvert_exporter": "python",
   "pygments_lexer": "ipython3",
   "version": "3.9.1"
  }
 },
 "nbformat": 4,
 "nbformat_minor": 4
}
